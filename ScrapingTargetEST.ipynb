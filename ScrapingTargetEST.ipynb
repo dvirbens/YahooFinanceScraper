{
 "cells": [
  {
   "cell_type": "code",
   "execution_count": null,
   "metadata": {},
   "outputs": [],
   "source": [
    "import requests\n",
    "from bs4 import BeautifulSoup"
   ]
  },
  {
   "cell_type": "code",
   "execution_count": null,
   "metadata": {},
   "outputs": [],
   "source": [
    "stocksCode = ['AMZN', 'AAPL', 'TSLA']"
   ]
  },
  {
   "cell_type": "code",
   "execution_count": null,
   "metadata": {},
   "outputs": [],
   "source": [
    "def getData(stockCode):\n",
    "    headers = {'User-Agent': 'Mozilla/5.0 (Windows NT 10.0; Win64; x64) AppleWebKit/537.36 (KHTML, like Gecko) Chrome/108.0.0.0 Safari/537.36'}\n",
    "    url = 'https://finance.yahoo.com/quote/{stockCode}'\n",
    "    r = requests.get(url, headers = headers)\n",
    "    #print(r.status_code)\n",
    "    soup = BeautifulSoup(r.text, 'html.parser')\n",
    "    #print(soup.title.text)\n",
    "    stock = {\n",
    "    'StockName': soup.find('h1',{'class': 'D(ib) Fz(18px)'}).text,\n",
    "    'CurrPrice': soup.find('td', {'data-test':'OPEN-value'}).text,\n",
    "    'TargetEST': soup.find('td', {'data-test':'ONE_YEAR_TARGET_PRICE-value'}).text,\n",
    "    'Profit': float(soup.find('td', {'data-test':'ONE_YEAR_TARGET_PRICE-value'}).text) - \n",
    "              float(soup.find('td', {'data-test':'OPEN-value'}).text)\n",
    "    }\n",
    "    return stock\n"
   ]
  },
  {
   "cell_type": "code",
   "execution_count": null,
   "metadata": {},
   "outputs": [],
   "source": [
    "'''\n",
    "url = 'https://finance.yahoo.com/quote/AAPL'\n",
    "r = requests.get(url)\n",
    "print(r.status_code)\n",
    "soup = BeautifulSoup(r.text, 'html.parser')\n",
    "print(soup.title.text)\n",
    "stock = {\n",
    "'StockName': soup.find('h1',{'class': 'D(ib) Fz(18px)'}).text,\n",
    "'CurrPrice': soup.find('td', {'data-test':'OPEN-value'}).text,\n",
    "'TargetEST': soup.find('td', {'data-test':'ONE_YEAR_TARGET_PRICE-value'}).text,\n",
    "'Profit': float(soup.find('td', {'data-test':'ONE_YEAR_TARGET_PRICE-value'}).text) - \n",
    "          float(soup.find('td', {'data-test':'OPEN-value'}).text)\n",
    "}\n",
    "print(stock)\n",
    "'''"
   ]
  }
 ],
 "metadata": {
  "kernelspec": {
   "display_name": "Python 3.9.15 ('myenv')",
   "language": "python",
   "name": "python3"
  },
  "language_info": {
   "codemirror_mode": {
    "name": "ipython",
    "version": 3
   },
   "file_extension": ".py",
   "mimetype": "text/x-python",
   "name": "python",
   "nbconvert_exporter": "python",
   "pygments_lexer": "ipython3",
   "version": "3.9.15"
  },
  "orig_nbformat": 4,
  "vscode": {
   "interpreter": {
    "hash": "32f4b5a6d5ce3700f0a4dfda41246b648b814aae314b8ad498c8f99190566326"
   }
  }
 },
 "nbformat": 4,
 "nbformat_minor": 2
}
